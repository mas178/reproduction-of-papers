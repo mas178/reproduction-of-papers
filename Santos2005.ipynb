{
 "cells": [
  {
   "cell_type": "markdown",
   "metadata": {},
   "source": [
    "__This is a reproduction of \"[Scale-Free Networks Provide a Unifying Framework for the Emergence of Cooperation (Santos & Pacheco, 2005)](https://doi-org.ezproxy.tulips.tsukuba.ac.jp/10.1103/PhysRevLett.95.098104)\"__"
   ]
  },
  {
   "cell_type": "code",
   "execution_count": 1,
   "metadata": {},
   "outputs": [],
   "source": [
    "using Agents\n",
    "using Graphs\n",
    "using Statistics: mean, sum\n",
    "using Plots\n",
    "using Test: @test\n",
    "using DataFrames"
   ]
  },
  {
   "cell_type": "code",
   "execution_count": 2,
   "metadata": {},
   "outputs": [
    {
     "name": "stdout",
     "output_type": "stream",
     "text": [
      "Julia 1.7.2\n"
     ]
    }
   ],
   "source": [
    "println(\"Julia $VERSION\")"
   ]
  },
  {
   "cell_type": "markdown",
   "metadata": {},
   "source": [
    "# 1. Define agent"
   ]
  },
  {
   "cell_type": "code",
   "execution_count": 3,
   "metadata": {},
   "outputs": [],
   "source": [
    "const C = true\n",
    "const D = false\n",
    "\n",
    "mutable struct Player <: AbstractAgent\n",
    "    id::Int\n",
    "    pos::Int\n",
    "    strategy::Bool # C or D\n",
    "    next_strategy::Bool # C or D\n",
    "    payoff::Float64\n",
    "    \n",
    "    Player(id::Int, strategy::Bool) = new(id, id, strategy, D, 0.0)\n",
    "    Player(id::Int, c_rate::Float64) = new(id, id, rand() < c_rate, D, 0.0)\n",
    "end"
   ]
  },
  {
   "cell_type": "markdown",
   "metadata": {},
   "source": [
    "# 2. Define pay-off table\n",
    "\n",
    "||C|D|\n",
    "|:-:|:-:|:-:|\n",
    "|C|R|S|\n",
    "|D|T|P|"
   ]
  },
  {
   "cell_type": "code",
   "execution_count": 4,
   "metadata": {},
   "outputs": [
    {
     "data": {
      "text/plain": [
       "\u001b[32m\u001b[1mTest Passed\u001b[22m\u001b[39m\n",
       "  Expression: play(payofftable_sd, Player(1, D), Player(1, D)) == 0\n",
       "   Evaluated: 0.0 == 0"
      ]
     },
     "execution_count": 4,
     "metadata": {},
     "output_type": "execute_result"
    }
   ],
   "source": [
    "struct PayOffTable\n",
    "    T::Float64\n",
    "    R::Float64\n",
    "    P::Float64\n",
    "    S::Float64\n",
    "end\n",
    "\n",
    "function PayOffTable_PD(b::Float64)::PayOffTable\n",
    "    PayOffTable(b, 1, 0.00001, 0)\n",
    "end\n",
    "\n",
    "function PayOffTable_SD(r::Float64)::PayOffTable\n",
    "    T = β = (1 / r + 1) / 2\n",
    "    R = β - 1 / 2\n",
    "    P = 0\n",
    "    S = β - 1\n",
    "    PayOffTable(T, R, P, S)\n",
    "end\n",
    "\n",
    "function play(payofftable::PayOffTable, me::Player, you::Player)::Float64\n",
    "    payoff = nothing\n",
    "    \n",
    "    if me.strategy && you.strategy\n",
    "        payoff = payofftable.R\n",
    "    elseif me.strategy && !you.strategy\n",
    "        payoff = payofftable.S\n",
    "    elseif !me.strategy && you.strategy\n",
    "        payoff = payofftable.T\n",
    "    elseif !me.strategy && !you.strategy\n",
    "        payoff = payofftable.P\n",
    "    end\n",
    "    \n",
    "    return payoff\n",
    "end\n",
    "\n",
    "# Test\n",
    "payofftable_pd = PayOffTable_PD(1.5)\n",
    "@test play(payofftable_pd, Player(1, C), Player(1, C)) == 1\n",
    "@test play(payofftable_pd, Player(1, C), Player(1, D)) == 0\n",
    "@test play(payofftable_pd, Player(1, D), Player(1, C)) == 1.5\n",
    "@test play(payofftable_pd, Player(1, D), Player(1, D)) == 0.00001\n",
    "\n",
    "payofftable_sd = PayOffTable_SD(0.5)\n",
    "@test play(payofftable_sd, Player(1, C), Player(1, C)) == 1\n",
    "@test play(payofftable_sd, Player(1, C), Player(1, D)) == 0.5\n",
    "@test play(payofftable_sd, Player(1, D), Player(1, C)) == 1.5\n",
    "@test play(payofftable_sd, Player(1, D), Player(1, D)) == 0"
   ]
  },
  {
   "cell_type": "markdown",
   "metadata": {},
   "source": [
    "# 3. Define a function for building model"
   ]
  },
  {
   "cell_type": "code",
   "execution_count": 5,
   "metadata": {},
   "outputs": [
    {
     "data": {
      "text/plain": [
       "\u001b[32m\u001b[1mTest Passed\u001b[22m\u001b[39m\n",
       "  Expression: (model.properties[:payofftable]).T == 1.5\n",
       "   Evaluated: 1.5 == 1.5"
      ]
     },
     "execution_count": 5,
     "metadata": {},
     "output_type": "execute_result"
    }
   ],
   "source": [
    "function build_model(;G::SimpleGraph, payofftable::PayOffTable, c_rate::Float64)\n",
    "    space = GraphSpace(G)\n",
    "    model = ABM(Player, space, properties = Dict(:payofftable => payofftable))\n",
    "\n",
    "    # モデル上にエージェントを配置する。\n",
    "    for id in 1:nv(G)\n",
    "        add_agent_pos!(Player(id, c_rate), model)\n",
    "    end\n",
    "    \n",
    "    return model\n",
    "end\n",
    "\n",
    "# Test\n",
    "model = build_model(G = random_regular_graph(104, 4), payofftable = PayOffTable_PD(1.5), c_rate = 0.8)\n",
    "@test length(allagents(model)) == 104\n",
    "@test model.properties[:payofftable].T == 1.5"
   ]
  },
  {
   "cell_type": "markdown",
   "metadata": {},
   "source": [
    "# 4. Define model behavior of 1step"
   ]
  },
  {
   "cell_type": "code",
   "execution_count": 6,
   "metadata": {},
   "outputs": [
    {
     "name": "stdout",
     "output_type": "stream",
     "text": [
      "  0.466014 seconds (2.55 M allocations: 138.782 MiB, 3.92% gc time, 99.85% compilation time)\n",
      "  0.088663 seconds (1.36 M allocations: 136.621 MiB, 15.22% gc time)\n"
     ]
    }
   ],
   "source": [
    "function model_step!(model::AgentBasedModel)\n",
    "    payofftable = model.properties[:payofftable]\n",
    "    \n",
    "    # In each generation, all pairs of individuals x and y, directly connected, engage in a single round of a given game,\n",
    "    # their accumulated payoffs being stored as Px and Py, respectively.\n",
    "    for agent in allagents(model)\n",
    "        agent.payoff = 0\n",
    "        for neighbor in nearby_agents(agent, model)\n",
    "            agent.payoff += play(payofftable, agent, neighbor)\n",
    "        end\n",
    "        # agent.payoff = sum([play(payofftable, agent, neighbor) for neighbor in nearby_agents(agent, model)])\n",
    "    end\n",
    "    \n",
    "    # decide next strategy by pay-off\n",
    "    for agent in allagents(model)\n",
    "        # Whenever a site x is updated, a neighbor y is drawn at random among all kx neighbors\n",
    "        neighbors = nearby_agents(agent, model)\n",
    "        neighbor_count = length(neighbors)\n",
    "        neighbor = collect(neighbors)[rand(1:neighbor_count)]\n",
    "        \n",
    "        # whenever Py > Px the chosen neighbor takes over site x with probability given by (Py−Px)/(Dk>)\n",
    "        # where k> is the largest between kx and ky and D=T−S for the PD and D=T−P for the SG\n",
    "        Px = agent.payoff\n",
    "        Py = neighbor.payoff\n",
    "        D = payofftable.T - 0 # ∵ S = 0 for PD, P = 0 for SD\n",
    "        kx = neighbor_count\n",
    "        ky = length(nearby_agents(neighbor, model))\n",
    "        k_max = kx > ky ? kx : ky\n",
    "        take_over_ratio = (Py - Px) / (D * k_max)\n",
    "        \n",
    "        if Py > Px && take_over_ratio > rand()\n",
    "            agent.next_strategy = neighbor.strategy\n",
    "        else\n",
    "            agent.next_strategy = agent.strategy\n",
    "        end\n",
    "    end\n",
    "    \n",
    "    # update strategy\n",
    "    for agent in allagents(model)\n",
    "        agent.strategy = agent.next_strategy\n",
    "    end\n",
    "end\n",
    "\n",
    "# Test\n",
    "model = build_model(G = barabasi_albert(104, 4), payofftable = PayOffTable_PD(1.5), c_rate = 0.5)\n",
    "@time run!(model, dummystep, model_step!, 1; adata = [(:strategy, mean)])\n",
    "@time run!(model, dummystep, model_step!, 1000; adata = [(:strategy, mean)])\n",
    "nothing"
   ]
  },
  {
   "cell_type": "markdown",
   "metadata": {},
   "source": [
    "# 5. Execute simulation"
   ]
  },
  {
   "cell_type": "code",
   "execution_count": 7,
   "metadata": {},
   "outputs": [
    {
     "data": {
      "text/plain": [
       "run_simulation (generic function with 1 method)"
      ]
     },
     "execution_count": 7,
     "metadata": {},
     "output_type": "execute_result"
    }
   ],
   "source": [
    "function run_simulation(; scale_free::Bool, pd::Bool, b_r::Float64, N::Int = 104, k::Int = 4, N_trials::Int = 32)::Float64\n",
    "    # Simulations were carried out for a population of N=10^4\n",
    "    # Initially, an equal percentage of strategies (cooperators or defectors) was randomly distributed among the elements of the population.\n",
    "    # Equilibrium frequencies of cooperators and defectors were obtained by averaging over 1000 generations after a transient time of 10 000 generations.\n",
    "    c_rate = 0.5\n",
    "    N_gen = 11000\n",
    "    payofftable = pd ? PayOffTable_PD(b_r) : PayOffTable_SD(b_r)\n",
    "    \n",
    "    # To this end, each data point results from an average over 100 simulations for the same type of NOCs\n",
    "    # specified by the appropriate parameters (the population size N and the average connectivity z).\n",
    "    f_c = 0\n",
    "    for _ in 1:N_trials\n",
    "        G = scale_free ? barabasi_albert(N, k) : random_regular_graph(N, k)\n",
    "        model = build_model(;G, payofftable, c_rate)\n",
    "        temp_df, _ = run!(model, dummystep, model_step!, N_gen; adata = [(:strategy, mean)], when = 10001:11001)\n",
    "        f_c += mean(temp_df.mean_strategy)\n",
    "    end\n",
    "    \n",
    "    return f_c / N_trials\n",
    "end"
   ]
  },
  {
   "cell_type": "code",
   "execution_count": 8,
   "metadata": {},
   "outputs": [
    {
     "data": {
      "text/html": [
       "<div class=\"data-frame\"><p>0 rows × 5 columns</p><table class=\"data-frame\"><thead><tr><th></th><th>network_typ</th><th>game_type</th><th>b_r</th><th>k</th><th>f_c</th></tr><tr><th></th><th title=\"String\">String</th><th title=\"String\">String</th><th title=\"Float64\">Float64</th><th title=\"Int64\">Int64</th><th title=\"Float64\">Float64</th></tr></thead><tbody></tbody></table></div>"
      ],
      "text/latex": [
       "\\begin{tabular}{r|ccccc}\n",
       "\t& network\\_typ & game\\_type & b\\_r & k & f\\_c\\\\\n",
       "\t\\hline\n",
       "\t& String & String & Float64 & Int64 & Float64\\\\\n",
       "\t\\hline\n",
       "\\end{tabular}\n"
      ],
      "text/plain": [
       "\u001b[1m0×5 DataFrame\u001b[0m"
      ]
     },
     "execution_count": 8,
     "metadata": {},
     "output_type": "execute_result"
    }
   ],
   "source": [
    "df = DataFrame(network_typ = String[], game_type = String[], b_r = Float64[], k = Int64[], f_c = Float64[])"
   ]
  },
  {
   "cell_type": "code",
   "execution_count": 9,
   "metadata": {},
   "outputs": [
    {
     "name": "stdout",
     "output_type": "stream",
     "text": [
      " 22.828508 seconds (476.69 M allocations: 32.220 GiB, 12.74% gc time, 0.42% compilation time)\n",
      " 22.866013 seconds (476.26 M allocations: 32.198 GiB, 12.53% gc time)\n",
      " 22.625719 seconds (476.26 M allocations: 32.198 GiB, 12.30% gc time)\n",
      " 22.389382 seconds (476.26 M allocations: 32.198 GiB, 12.10% gc time)\n",
      " 22.291523 seconds (476.26 M allocations: 32.198 GiB, 11.89% gc time)\n"
     ]
    },
    {
     "data": {
      "text/html": [
       "<div class=\"data-frame\"><p>5 rows × 5 columns</p><table class=\"data-frame\"><thead><tr><th></th><th>network_typ</th><th>game_type</th><th>b_r</th><th>k</th><th>f_c</th></tr><tr><th></th><th title=\"String\">String</th><th title=\"String\">String</th><th title=\"Float64\">Float64</th><th title=\"Int64\">Int64</th><th title=\"Float64\">Float64</th></tr></thead><tbody><tr><th>1</th><td>Regular</td><td>Prisoner&apos;s Dilemma</td><td>1.0</td><td>4</td><td>0.7029</td></tr><tr><th>2</th><td>Regular</td><td>Prisoner&apos;s Dilemma</td><td>1.05</td><td>4</td><td>0.533508</td></tr><tr><th>3</th><td>Regular</td><td>Prisoner&apos;s Dilemma</td><td>1.1</td><td>4</td><td>0.260739</td></tr><tr><th>4</th><td>Regular</td><td>Prisoner&apos;s Dilemma</td><td>1.15</td><td>4</td><td>0.103422</td></tr><tr><th>5</th><td>Regular</td><td>Prisoner&apos;s Dilemma</td><td>1.2</td><td>4</td><td>0.0674745</td></tr></tbody></table></div>"
      ],
      "text/latex": [
       "\\begin{tabular}{r|ccccc}\n",
       "\t& network\\_typ & game\\_type & b\\_r & k & f\\_c\\\\\n",
       "\t\\hline\n",
       "\t& String & String & Float64 & Int64 & Float64\\\\\n",
       "\t\\hline\n",
       "\t1 & Regular & Prisoner's Dilemma & 1.0 & 4 & 0.7029 \\\\\n",
       "\t2 & Regular & Prisoner's Dilemma & 1.05 & 4 & 0.533508 \\\\\n",
       "\t3 & Regular & Prisoner's Dilemma & 1.1 & 4 & 0.260739 \\\\\n",
       "\t4 & Regular & Prisoner's Dilemma & 1.15 & 4 & 0.103422 \\\\\n",
       "\t5 & Regular & Prisoner's Dilemma & 1.2 & 4 & 0.0674745 \\\\\n",
       "\\end{tabular}\n"
      ],
      "text/plain": [
       "\u001b[1m5×5 DataFrame\u001b[0m\n",
       "\u001b[1m Row \u001b[0m│\u001b[1m network_typ \u001b[0m\u001b[1m game_type          \u001b[0m\u001b[1m b_r     \u001b[0m\u001b[1m k     \u001b[0m\u001b[1m f_c       \u001b[0m\n",
       "\u001b[1m     \u001b[0m│\u001b[90m String      \u001b[0m\u001b[90m String             \u001b[0m\u001b[90m Float64 \u001b[0m\u001b[90m Int64 \u001b[0m\u001b[90m Float64   \u001b[0m\n",
       "─────┼────────────────────────────────────────────────────────────\n",
       "   1 │ Regular      Prisoner's Dilemma     1.0       4  0.7029\n",
       "   2 │ Regular      Prisoner's Dilemma     1.05      4  0.533508\n",
       "   3 │ Regular      Prisoner's Dilemma     1.1       4  0.260739\n",
       "   4 │ Regular      Prisoner's Dilemma     1.15      4  0.103422\n",
       "   5 │ Regular      Prisoner's Dilemma     1.2       4  0.0674745"
      ]
     },
     "execution_count": 9,
     "metadata": {},
     "output_type": "execute_result"
    }
   ],
   "source": [
    "# Regular Network / Prisoner's Dilemma / k = 4\n",
    "for b_r in 1.00:0.05:1.20\n",
    "    @time push!(df, [\"Regular\", \"Prisoner's Dilemma\", b_r, 4, run_simulation(; scale_free = false, pd = true, b_r)])\n",
    "end\n",
    "df"
   ]
  },
  {
   "cell_type": "code",
   "execution_count": 10,
   "metadata": {},
   "outputs": [
    {
     "name": "stdout",
     "output_type": "stream",
     "text": [
      " 22.112222 seconds (476.26 M allocations: 32.198 GiB, 11.76% gc time)\n",
      " 22.228742 seconds (476.26 M allocations: 32.198 GiB, 11.57% gc time)\n",
      " 22.426704 seconds (476.26 M allocations: 32.198 GiB, 11.62% gc time)\n",
      " 22.347604 seconds (476.26 M allocations: 32.198 GiB, 11.55% gc time)\n",
      " 22.533784 seconds (476.26 M allocations: 32.198 GiB, 11.65% gc time)\n"
     ]
    },
    {
     "data": {
      "text/html": [
       "<div class=\"data-frame\"><p>10 rows × 5 columns</p><table class=\"data-frame\"><thead><tr><th></th><th>network_typ</th><th>game_type</th><th>b_r</th><th>k</th><th>f_c</th></tr><tr><th></th><th title=\"String\">String</th><th title=\"String\">String</th><th title=\"Float64\">Float64</th><th title=\"Int64\">Int64</th><th title=\"Float64\">Float64</th></tr></thead><tbody><tr><th>1</th><td>Regular</td><td>Prisoner&apos;s Dilemma</td><td>1.0</td><td>4</td><td>0.7029</td></tr><tr><th>2</th><td>Regular</td><td>Prisoner&apos;s Dilemma</td><td>1.05</td><td>4</td><td>0.533508</td></tr><tr><th>3</th><td>Regular</td><td>Prisoner&apos;s Dilemma</td><td>1.1</td><td>4</td><td>0.260739</td></tr><tr><th>4</th><td>Regular</td><td>Prisoner&apos;s Dilemma</td><td>1.15</td><td>4</td><td>0.103422</td></tr><tr><th>5</th><td>Regular</td><td>Prisoner&apos;s Dilemma</td><td>1.2</td><td>4</td><td>0.0674745</td></tr><tr><th>6</th><td>Regular</td><td>Snowdrift</td><td>0.1</td><td>4</td><td>1.0</td></tr><tr><th>7</th><td>Regular</td><td>Snowdrift</td><td>0.3</td><td>4</td><td>0.623324</td></tr><tr><th>8</th><td>Regular</td><td>Snowdrift</td><td>0.5</td><td>4</td><td>0.375284</td></tr><tr><th>9</th><td>Regular</td><td>Snowdrift</td><td>0.7</td><td>4</td><td>0.200111</td></tr><tr><th>10</th><td>Regular</td><td>Snowdrift</td><td>0.9</td><td>4</td><td>0.00647236</td></tr></tbody></table></div>"
      ],
      "text/latex": [
       "\\begin{tabular}{r|ccccc}\n",
       "\t& network\\_typ & game\\_type & b\\_r & k & f\\_c\\\\\n",
       "\t\\hline\n",
       "\t& String & String & Float64 & Int64 & Float64\\\\\n",
       "\t\\hline\n",
       "\t1 & Regular & Prisoner's Dilemma & 1.0 & 4 & 0.7029 \\\\\n",
       "\t2 & Regular & Prisoner's Dilemma & 1.05 & 4 & 0.533508 \\\\\n",
       "\t3 & Regular & Prisoner's Dilemma & 1.1 & 4 & 0.260739 \\\\\n",
       "\t4 & Regular & Prisoner's Dilemma & 1.15 & 4 & 0.103422 \\\\\n",
       "\t5 & Regular & Prisoner's Dilemma & 1.2 & 4 & 0.0674745 \\\\\n",
       "\t6 & Regular & Snowdrift & 0.1 & 4 & 1.0 \\\\\n",
       "\t7 & Regular & Snowdrift & 0.3 & 4 & 0.623324 \\\\\n",
       "\t8 & Regular & Snowdrift & 0.5 & 4 & 0.375284 \\\\\n",
       "\t9 & Regular & Snowdrift & 0.7 & 4 & 0.200111 \\\\\n",
       "\t10 & Regular & Snowdrift & 0.9 & 4 & 0.00647236 \\\\\n",
       "\\end{tabular}\n"
      ],
      "text/plain": [
       "\u001b[1m10×5 DataFrame\u001b[0m\n",
       "\u001b[1m Row \u001b[0m│\u001b[1m network_typ \u001b[0m\u001b[1m game_type          \u001b[0m\u001b[1m b_r     \u001b[0m\u001b[1m k     \u001b[0m\u001b[1m f_c        \u001b[0m\n",
       "\u001b[1m     \u001b[0m│\u001b[90m String      \u001b[0m\u001b[90m String             \u001b[0m\u001b[90m Float64 \u001b[0m\u001b[90m Int64 \u001b[0m\u001b[90m Float64    \u001b[0m\n",
       "─────┼─────────────────────────────────────────────────────────────\n",
       "   1 │ Regular      Prisoner's Dilemma     1.0       4  0.7029\n",
       "   2 │ Regular      Prisoner's Dilemma     1.05      4  0.533508\n",
       "   3 │ Regular      Prisoner's Dilemma     1.1       4  0.260739\n",
       "   4 │ Regular      Prisoner's Dilemma     1.15      4  0.103422\n",
       "   5 │ Regular      Prisoner's Dilemma     1.2       4  0.0674745\n",
       "   6 │ Regular      Snowdrift              0.1       4  1.0\n",
       "   7 │ Regular      Snowdrift              0.3       4  0.623324\n",
       "   8 │ Regular      Snowdrift              0.5       4  0.375284\n",
       "   9 │ Regular      Snowdrift              0.7       4  0.200111\n",
       "  10 │ Regular      Snowdrift              0.9       4  0.00647236"
      ]
     },
     "execution_count": 10,
     "metadata": {},
     "output_type": "execute_result"
    }
   ],
   "source": [
    "# Regular Network / Snowdrift Game\n",
    "for b_r in 0.1:0.2:0.9\n",
    "    @time push!(df, [\"Regular\", \"Snowdrift\", b_r, 4, run_simulation(; scale_free = false, pd = false, b_r)])\n",
    "end\n",
    "df"
   ]
  },
  {
   "cell_type": "code",
   "execution_count": 11,
   "metadata": {},
   "outputs": [
    {
     "name": "stdout",
     "output_type": "stream",
     "text": [
      " 29.225420 seconds (476.24 M allocations: 46.913 GiB, 10.01% gc time)\n",
      " 28.266361 seconds (476.24 M allocations: 46.818 GiB, 8.51% gc time)\n",
      " 28.297644 seconds (476.24 M allocations: 46.865 GiB, 8.68% gc time)\n",
      " 28.056591 seconds (476.24 M allocations: 46.810 GiB, 8.66% gc time)\n",
      " 28.243196 seconds (476.24 M allocations: 46.903 GiB, 8.62% gc time)\n"
     ]
    },
    {
     "data": {
      "text/html": [
       "<div class=\"data-frame\"><p>15 rows × 5 columns</p><table class=\"data-frame\"><thead><tr><th></th><th>network_typ</th><th>game_type</th><th>b_r</th><th>k</th><th>f_c</th></tr><tr><th></th><th title=\"String\">String</th><th title=\"String\">String</th><th title=\"Float64\">Float64</th><th title=\"Int64\">Int64</th><th title=\"Float64\">Float64</th></tr></thead><tbody><tr><th>1</th><td>Regular</td><td>Prisoner&apos;s Dilemma</td><td>1.0</td><td>4</td><td>0.7029</td></tr><tr><th>2</th><td>Regular</td><td>Prisoner&apos;s Dilemma</td><td>1.05</td><td>4</td><td>0.533508</td></tr><tr><th>3</th><td>Regular</td><td>Prisoner&apos;s Dilemma</td><td>1.1</td><td>4</td><td>0.260739</td></tr><tr><th>4</th><td>Regular</td><td>Prisoner&apos;s Dilemma</td><td>1.15</td><td>4</td><td>0.103422</td></tr><tr><th>5</th><td>Regular</td><td>Prisoner&apos;s Dilemma</td><td>1.2</td><td>4</td><td>0.0674745</td></tr><tr><th>6</th><td>Regular</td><td>Snowdrift</td><td>0.1</td><td>4</td><td>1.0</td></tr><tr><th>7</th><td>Regular</td><td>Snowdrift</td><td>0.3</td><td>4</td><td>0.623324</td></tr><tr><th>8</th><td>Regular</td><td>Snowdrift</td><td>0.5</td><td>4</td><td>0.375284</td></tr><tr><th>9</th><td>Regular</td><td>Snowdrift</td><td>0.7</td><td>4</td><td>0.200111</td></tr><tr><th>10</th><td>Regular</td><td>Snowdrift</td><td>0.9</td><td>4</td><td>0.00647236</td></tr><tr><th>11</th><td>Scale-Free</td><td>Prisoner&apos;s Dilemma</td><td>1.1</td><td>4</td><td>0.977767</td></tr><tr><th>12</th><td>Scale-Free</td><td>Prisoner&apos;s Dilemma</td><td>1.3</td><td>4</td><td>0.9375</td></tr><tr><th>13</th><td>Scale-Free</td><td>Prisoner&apos;s Dilemma</td><td>1.5</td><td>4</td><td>0.28125</td></tr><tr><th>14</th><td>Scale-Free</td><td>Prisoner&apos;s Dilemma</td><td>1.7</td><td>4</td><td>0.0</td></tr><tr><th>15</th><td>Scale-Free</td><td>Prisoner&apos;s Dilemma</td><td>1.9</td><td>4</td><td>0.0</td></tr></tbody></table></div>"
      ],
      "text/latex": [
       "\\begin{tabular}{r|ccccc}\n",
       "\t& network\\_typ & game\\_type & b\\_r & k & f\\_c\\\\\n",
       "\t\\hline\n",
       "\t& String & String & Float64 & Int64 & Float64\\\\\n",
       "\t\\hline\n",
       "\t1 & Regular & Prisoner's Dilemma & 1.0 & 4 & 0.7029 \\\\\n",
       "\t2 & Regular & Prisoner's Dilemma & 1.05 & 4 & 0.533508 \\\\\n",
       "\t3 & Regular & Prisoner's Dilemma & 1.1 & 4 & 0.260739 \\\\\n",
       "\t4 & Regular & Prisoner's Dilemma & 1.15 & 4 & 0.103422 \\\\\n",
       "\t5 & Regular & Prisoner's Dilemma & 1.2 & 4 & 0.0674745 \\\\\n",
       "\t6 & Regular & Snowdrift & 0.1 & 4 & 1.0 \\\\\n",
       "\t7 & Regular & Snowdrift & 0.3 & 4 & 0.623324 \\\\\n",
       "\t8 & Regular & Snowdrift & 0.5 & 4 & 0.375284 \\\\\n",
       "\t9 & Regular & Snowdrift & 0.7 & 4 & 0.200111 \\\\\n",
       "\t10 & Regular & Snowdrift & 0.9 & 4 & 0.00647236 \\\\\n",
       "\t11 & Scale-Free & Prisoner's Dilemma & 1.1 & 4 & 0.977767 \\\\\n",
       "\t12 & Scale-Free & Prisoner's Dilemma & 1.3 & 4 & 0.9375 \\\\\n",
       "\t13 & Scale-Free & Prisoner's Dilemma & 1.5 & 4 & 0.28125 \\\\\n",
       "\t14 & Scale-Free & Prisoner's Dilemma & 1.7 & 4 & 0.0 \\\\\n",
       "\t15 & Scale-Free & Prisoner's Dilemma & 1.9 & 4 & 0.0 \\\\\n",
       "\\end{tabular}\n"
      ],
      "text/plain": [
       "\u001b[1m15×5 DataFrame\u001b[0m\n",
       "\u001b[1m Row \u001b[0m│\u001b[1m network_typ \u001b[0m\u001b[1m game_type          \u001b[0m\u001b[1m b_r     \u001b[0m\u001b[1m k     \u001b[0m\u001b[1m f_c        \u001b[0m\n",
       "\u001b[1m     \u001b[0m│\u001b[90m String      \u001b[0m\u001b[90m String             \u001b[0m\u001b[90m Float64 \u001b[0m\u001b[90m Int64 \u001b[0m\u001b[90m Float64    \u001b[0m\n",
       "─────┼─────────────────────────────────────────────────────────────\n",
       "   1 │ Regular      Prisoner's Dilemma     1.0       4  0.7029\n",
       "   2 │ Regular      Prisoner's Dilemma     1.05      4  0.533508\n",
       "   3 │ Regular      Prisoner's Dilemma     1.1       4  0.260739\n",
       "   4 │ Regular      Prisoner's Dilemma     1.15      4  0.103422\n",
       "   5 │ Regular      Prisoner's Dilemma     1.2       4  0.0674745\n",
       "   6 │ Regular      Snowdrift              0.1       4  1.0\n",
       "   7 │ Regular      Snowdrift              0.3       4  0.623324\n",
       "   8 │ Regular      Snowdrift              0.5       4  0.375284\n",
       "   9 │ Regular      Snowdrift              0.7       4  0.200111\n",
       "  10 │ Regular      Snowdrift              0.9       4  0.00647236\n",
       "  11 │ Scale-Free   Prisoner's Dilemma     1.1       4  0.977767\n",
       "  12 │ Scale-Free   Prisoner's Dilemma     1.3       4  0.9375\n",
       "  13 │ Scale-Free   Prisoner's Dilemma     1.5       4  0.28125\n",
       "  14 │ Scale-Free   Prisoner's Dilemma     1.7       4  0.0\n",
       "  15 │ Scale-Free   Prisoner's Dilemma     1.9       4  0.0"
      ]
     },
     "execution_count": 11,
     "metadata": {},
     "output_type": "execute_result"
    }
   ],
   "source": [
    "# Scale-Free Network / Prisoner's Dilemma\n",
    "for b_r in 1.1:0.2:1.9\n",
    "    @time push!(df, [\"Scale-Free\", \"Prisoner's Dilemma\", b_r, 4, run_simulation(; scale_free = true, pd = true, b_r)])\n",
    "end\n",
    "df"
   ]
  },
  {
   "cell_type": "code",
   "execution_count": 12,
   "metadata": {
    "scrolled": true
   },
   "outputs": [
    {
     "name": "stdout",
     "output_type": "stream",
     "text": [
      " 28.336413 seconds (476.24 M allocations: 46.927 GiB, 8.55% gc time)\n",
      " 28.184711 seconds (476.24 M allocations: 47.057 GiB, 8.42% gc time)\n",
      " 28.128626 seconds (476.24 M allocations: 46.987 GiB, 8.42% gc time)\n",
      " 28.171336 seconds (476.24 M allocations: 47.023 GiB, 8.28% gc time)\n",
      " 27.736498 seconds (476.24 M allocations: 46.758 GiB, 8.13% gc time)\n"
     ]
    },
    {
     "data": {
      "text/html": [
       "<div class=\"data-frame\"><p>20 rows × 5 columns</p><table class=\"data-frame\"><thead><tr><th></th><th>network_typ</th><th>game_type</th><th>b_r</th><th>k</th><th>f_c</th></tr><tr><th></th><th title=\"String\">String</th><th title=\"String\">String</th><th title=\"Float64\">Float64</th><th title=\"Int64\">Int64</th><th title=\"Float64\">Float64</th></tr></thead><tbody><tr><th>1</th><td>Regular</td><td>Prisoner&apos;s Dilemma</td><td>1.0</td><td>4</td><td>0.7029</td></tr><tr><th>2</th><td>Regular</td><td>Prisoner&apos;s Dilemma</td><td>1.05</td><td>4</td><td>0.533508</td></tr><tr><th>3</th><td>Regular</td><td>Prisoner&apos;s Dilemma</td><td>1.1</td><td>4</td><td>0.260739</td></tr><tr><th>4</th><td>Regular</td><td>Prisoner&apos;s Dilemma</td><td>1.15</td><td>4</td><td>0.103422</td></tr><tr><th>5</th><td>Regular</td><td>Prisoner&apos;s Dilemma</td><td>1.2</td><td>4</td><td>0.0674745</td></tr><tr><th>6</th><td>Regular</td><td>Snowdrift</td><td>0.1</td><td>4</td><td>1.0</td></tr><tr><th>7</th><td>Regular</td><td>Snowdrift</td><td>0.3</td><td>4</td><td>0.623324</td></tr><tr><th>8</th><td>Regular</td><td>Snowdrift</td><td>0.5</td><td>4</td><td>0.375284</td></tr><tr><th>9</th><td>Regular</td><td>Snowdrift</td><td>0.7</td><td>4</td><td>0.200111</td></tr><tr><th>10</th><td>Regular</td><td>Snowdrift</td><td>0.9</td><td>4</td><td>0.00647236</td></tr><tr><th>11</th><td>Scale-Free</td><td>Prisoner&apos;s Dilemma</td><td>1.1</td><td>4</td><td>0.977767</td></tr><tr><th>12</th><td>Scale-Free</td><td>Prisoner&apos;s Dilemma</td><td>1.3</td><td>4</td><td>0.9375</td></tr><tr><th>13</th><td>Scale-Free</td><td>Prisoner&apos;s Dilemma</td><td>1.5</td><td>4</td><td>0.28125</td></tr><tr><th>14</th><td>Scale-Free</td><td>Prisoner&apos;s Dilemma</td><td>1.7</td><td>4</td><td>0.0</td></tr><tr><th>15</th><td>Scale-Free</td><td>Prisoner&apos;s Dilemma</td><td>1.9</td><td>4</td><td>0.0</td></tr><tr><th>16</th><td>Scale-Free</td><td>Snowdrift</td><td>0.1</td><td>4</td><td>0.97249</td></tr><tr><th>17</th><td>Scale-Free</td><td>Snowdrift</td><td>0.3</td><td>4</td><td>0.966803</td></tr><tr><th>18</th><td>Scale-Free</td><td>Snowdrift</td><td>0.5</td><td>4</td><td>0.982504</td></tr><tr><th>19</th><td>Scale-Free</td><td>Snowdrift</td><td>0.7</td><td>4</td><td>0.987621</td></tr><tr><th>20</th><td>Scale-Free</td><td>Snowdrift</td><td>0.9</td><td>4</td><td>0.101673</td></tr></tbody></table></div>"
      ],
      "text/latex": [
       "\\begin{tabular}{r|ccccc}\n",
       "\t& network\\_typ & game\\_type & b\\_r & k & f\\_c\\\\\n",
       "\t\\hline\n",
       "\t& String & String & Float64 & Int64 & Float64\\\\\n",
       "\t\\hline\n",
       "\t1 & Regular & Prisoner's Dilemma & 1.0 & 4 & 0.7029 \\\\\n",
       "\t2 & Regular & Prisoner's Dilemma & 1.05 & 4 & 0.533508 \\\\\n",
       "\t3 & Regular & Prisoner's Dilemma & 1.1 & 4 & 0.260739 \\\\\n",
       "\t4 & Regular & Prisoner's Dilemma & 1.15 & 4 & 0.103422 \\\\\n",
       "\t5 & Regular & Prisoner's Dilemma & 1.2 & 4 & 0.0674745 \\\\\n",
       "\t6 & Regular & Snowdrift & 0.1 & 4 & 1.0 \\\\\n",
       "\t7 & Regular & Snowdrift & 0.3 & 4 & 0.623324 \\\\\n",
       "\t8 & Regular & Snowdrift & 0.5 & 4 & 0.375284 \\\\\n",
       "\t9 & Regular & Snowdrift & 0.7 & 4 & 0.200111 \\\\\n",
       "\t10 & Regular & Snowdrift & 0.9 & 4 & 0.00647236 \\\\\n",
       "\t11 & Scale-Free & Prisoner's Dilemma & 1.1 & 4 & 0.977767 \\\\\n",
       "\t12 & Scale-Free & Prisoner's Dilemma & 1.3 & 4 & 0.9375 \\\\\n",
       "\t13 & Scale-Free & Prisoner's Dilemma & 1.5 & 4 & 0.28125 \\\\\n",
       "\t14 & Scale-Free & Prisoner's Dilemma & 1.7 & 4 & 0.0 \\\\\n",
       "\t15 & Scale-Free & Prisoner's Dilemma & 1.9 & 4 & 0.0 \\\\\n",
       "\t16 & Scale-Free & Snowdrift & 0.1 & 4 & 0.97249 \\\\\n",
       "\t17 & Scale-Free & Snowdrift & 0.3 & 4 & 0.966803 \\\\\n",
       "\t18 & Scale-Free & Snowdrift & 0.5 & 4 & 0.982504 \\\\\n",
       "\t19 & Scale-Free & Snowdrift & 0.7 & 4 & 0.987621 \\\\\n",
       "\t20 & Scale-Free & Snowdrift & 0.9 & 4 & 0.101673 \\\\\n",
       "\\end{tabular}\n"
      ],
      "text/plain": [
       "\u001b[1m20×5 DataFrame\u001b[0m\n",
       "\u001b[1m Row \u001b[0m│\u001b[1m network_typ \u001b[0m\u001b[1m game_type          \u001b[0m\u001b[1m b_r     \u001b[0m\u001b[1m k     \u001b[0m\u001b[1m f_c        \u001b[0m\n",
       "\u001b[1m     \u001b[0m│\u001b[90m String      \u001b[0m\u001b[90m String             \u001b[0m\u001b[90m Float64 \u001b[0m\u001b[90m Int64 \u001b[0m\u001b[90m Float64    \u001b[0m\n",
       "─────┼─────────────────────────────────────────────────────────────\n",
       "   1 │ Regular      Prisoner's Dilemma     1.0       4  0.7029\n",
       "   2 │ Regular      Prisoner's Dilemma     1.05      4  0.533508\n",
       "   3 │ Regular      Prisoner's Dilemma     1.1       4  0.260739\n",
       "   4 │ Regular      Prisoner's Dilemma     1.15      4  0.103422\n",
       "   5 │ Regular      Prisoner's Dilemma     1.2       4  0.0674745\n",
       "   6 │ Regular      Snowdrift              0.1       4  1.0\n",
       "   7 │ Regular      Snowdrift              0.3       4  0.623324\n",
       "   8 │ Regular      Snowdrift              0.5       4  0.375284\n",
       "   9 │ Regular      Snowdrift              0.7       4  0.200111\n",
       "  10 │ Regular      Snowdrift              0.9       4  0.00647236\n",
       "  11 │ Scale-Free   Prisoner's Dilemma     1.1       4  0.977767\n",
       "  12 │ Scale-Free   Prisoner's Dilemma     1.3       4  0.9375\n",
       "  13 │ Scale-Free   Prisoner's Dilemma     1.5       4  0.28125\n",
       "  14 │ Scale-Free   Prisoner's Dilemma     1.7       4  0.0\n",
       "  15 │ Scale-Free   Prisoner's Dilemma     1.9       4  0.0\n",
       "  16 │ Scale-Free   Snowdrift              0.1       4  0.97249\n",
       "  17 │ Scale-Free   Snowdrift              0.3       4  0.966803\n",
       "  18 │ Scale-Free   Snowdrift              0.5       4  0.982504\n",
       "  19 │ Scale-Free   Snowdrift              0.7       4  0.987621\n",
       "  20 │ Scale-Free   Snowdrift              0.9       4  0.101673"
      ]
     },
     "execution_count": 12,
     "metadata": {},
     "output_type": "execute_result"
    }
   ],
   "source": [
    "# Scale-Free Network / Snowdrift Game\n",
    "for b_r in 0.1:0.2:0.9\n",
    "    @time push!(df, [\"Scale-Free\", \"Snowdrift\", b_r, 4, run_simulation(; scale_free = true, pd = false, b_r)])\n",
    "end\n",
    "df"
   ]
  },
  {
   "cell_type": "markdown",
   "metadata": {},
   "source": [
    "# 6. Result"
   ]
  },
  {
   "cell_type": "code",
   "execution_count": 13,
   "metadata": {},
   "outputs": [
    {
     "data": {
      "image/png": "[encoded data removed]"
     },
     "execution_count": 13,
     "metadata": {},
     "output_type": "execute_result"
    }
   ],
   "source": [
    "temp_df = df[(df.network_typ .== \"Regular\") .& (df.game_type .== \"Prisoner's Dilemma\"), :][:, [:b_r, :f_c]]\n",
    "pd = plot(temp_df.b_r, temp_df.f_c, fmt = :png, \n",
    "    title=\"Prisoner's Dilemma\", xlabel=\"b\", ylabel=\"frequency of cooperators\", label=\"Regular\",\n",
    "    xlims=(1,1.9), ylims=(0,1), linewidth=5)\n",
    "\n",
    "temp_df = df[(df.network_typ .== \"Scale-Free\") .& (df.game_type .== \"Prisoner's Dilemma\"), :][:, [:b_r, :f_c]]\n",
    "pd = plot!(temp_df.b_r, temp_df.f_c, fmt = :png, label=\"Scale-Free\", linewidth=5)\n",
    "\n",
    "temp_df = df[(df.network_typ .== \"Regular\") .& (df.game_type .== \"Snowdrift\"), :][:, [:b_r, :f_c]]\n",
    "sg = plot(temp_df.b_r, temp_df.f_c, fmt = :png,\n",
    "    title=\"Snowdrift\", xlabel=\"r\", ylabel=\"frequency of cooperators\", label=\"Regular\",\n",
    "    xlims=(0.1,0.9), ylims=(0,1), linewidth=5)\n",
    "\n",
    "temp_df = df[(df.network_typ .== \"Scale-Free\") .& (df.game_type .== \"Snowdrift\"), :][:, [:b_r, :f_c]]\n",
    "sg = plot!(temp_df.b_r, temp_df.f_c, fmt = :png, label=\"Scale-Free\", linewidth=5)\n",
    "plot(pd, sg, size=(900, 300))"
   ]
  }
 ],
 "metadata": {
  "kernelspec": {
   "display_name": "Julia 1.7.2",
   "language": "julia",
   "name": "julia-1.7"
  },
  "language_info": {
   "file_extension": ".jl",
   "mimetype": "application/julia",
   "name": "julia",
   "version": "1.7.2"
  }
 },
 "nbformat": 4,
 "nbformat_minor": 4
}
