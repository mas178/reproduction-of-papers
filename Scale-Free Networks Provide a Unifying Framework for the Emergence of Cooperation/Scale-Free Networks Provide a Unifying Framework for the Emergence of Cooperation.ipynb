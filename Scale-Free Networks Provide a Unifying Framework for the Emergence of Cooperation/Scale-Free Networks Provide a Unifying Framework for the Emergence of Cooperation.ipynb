{
 "cells": [
  {
   "cell_type": "code",
   "execution_count": 1,
   "metadata": {},
   "outputs": [],
   "source": [
    "using Agents\n",
    "using LightGraphs\n",
    "using Statistics: mean, sum\n",
    "using GLMakie: lines\n",
    "using Test: @test\n",
    "using DataFrames\n",
    "using CSV"
   ]
  },
  {
   "cell_type": "markdown",
   "metadata": {},
   "source": [
    "# エージェントを定義する"
   ]
  },
  {
   "cell_type": "code",
   "execution_count": 2,
   "metadata": {},
   "outputs": [],
   "source": [
    "const C = true\n",
    "const D = false\n",
    "\n",
    "mutable struct Player <: AbstractAgent\n",
    "    id::Int\n",
    "    pos::Int\n",
    "    strategy::Bool # C or D\n",
    "    next_strategy::Bool # C or D\n",
    "    payoff::Float64\n",
    "    \n",
    "    Player(id::Int, strategy::Bool) = new(id, id, strategy, D, 0.0)\n",
    "    Player(id::Int, c_rate::Float64) = new(id, id, rand() < c_rate, D, 0.0)\n",
    "end"
   ]
  },
  {
   "cell_type": "markdown",
   "metadata": {},
   "source": [
    "# Define pay-off table\n",
    "\n",
    "||C|D|\n",
    "|:-:|:-:|:-:|\n",
    "|C|R|S|\n",
    "|D|T|P|"
   ]
  },
  {
   "cell_type": "code",
   "execution_count": 3,
   "metadata": {},
   "outputs": [
    {
     "data": {
      "text/plain": [
       "\u001b[32m\u001b[1mTest Passed\u001b[22m\u001b[39m"
      ]
     },
     "execution_count": 3,
     "metadata": {},
     "output_type": "execute_result"
    }
   ],
   "source": [
    "struct PayOffTable\n",
    "    T::Float64\n",
    "    R::Float64\n",
    "    P::Float64\n",
    "    S::Float64\n",
    "end\n",
    "\n",
    "function PayOffTable_PD(b::Float64)::PayOffTable\n",
    "    PayOffTable(b, 1, 0.00001, 0)\n",
    "end\n",
    "\n",
    "function PayOffTable_SD(r::Float64)::PayOffTable\n",
    "    T = β = (1 / r + 1) / 2\n",
    "    R = β - 1 / 2\n",
    "    P = 0\n",
    "    S = β - 1\n",
    "    PayOffTable(T, R, P, S)\n",
    "end\n",
    "\n",
    "function play(payofftable::PayOffTable, me::Player, you::Player)::Float64\n",
    "    payoff = nothing\n",
    "    \n",
    "    if me.strategy && you.strategy\n",
    "        payoff = payofftable.R\n",
    "    elseif me.strategy && !you.strategy\n",
    "        payoff = payofftable.S\n",
    "    elseif !me.strategy && you.strategy\n",
    "        payoff = payofftable.T\n",
    "    elseif !me.strategy && !you.strategy\n",
    "        payoff = payofftable.P\n",
    "    end\n",
    "    \n",
    "    return payoff\n",
    "end\n",
    "\n",
    "# Test\n",
    "payofftable_pd = PayOffTable_PD(1.5)\n",
    "@test play(payofftable_pd, Player(1, C), Player(1, C)) == 1\n",
    "@test play(payofftable_pd, Player(1, C), Player(1, D)) == 0\n",
    "@test play(payofftable_pd, Player(1, D), Player(1, C)) == 1.5\n",
    "@test play(payofftable_pd, Player(1, D), Player(1, D)) == 0.00001\n",
    "\n",
    "payofftable_sd = PayOffTable_SD(0.5)\n",
    "@test play(payofftable_sd, Player(1, C), Player(1, C)) == 1\n",
    "@test play(payofftable_sd, Player(1, C), Player(1, D)) == 0.5\n",
    "@test play(payofftable_sd, Player(1, D), Player(1, C)) == 1.5\n",
    "@test play(payofftable_sd, Player(1, D), Player(1, D)) == 0"
   ]
  },
  {
   "cell_type": "markdown",
   "metadata": {},
   "source": [
    "# モデルとエージェントを生成する"
   ]
  },
  {
   "cell_type": "code",
   "execution_count": 4,
   "metadata": {},
   "outputs": [
    {
     "data": {
      "text/plain": [
       "\u001b[32m\u001b[1mTest Passed\u001b[22m\u001b[39m"
      ]
     },
     "execution_count": 4,
     "metadata": {},
     "output_type": "execute_result"
    }
   ],
   "source": [
    "function build_model(;G::SimpleGraph, payofftable::PayOffTable, c_rate::Float64)\n",
    "    space = GraphSpace(G)\n",
    "    model = ABM(Player, space, properties = Dict(:payofftable => payofftable))\n",
    "\n",
    "    # モデル上にエージェントを配置する。\n",
    "    for id in 1:nv(G)\n",
    "        add_agent_pos!(Player(id, c_rate), model)\n",
    "    end\n",
    "    \n",
    "    return model\n",
    "end\n",
    "\n",
    "# Test\n",
    "model = build_model(G = random_regular_graph(104, 4), payofftable = PayOffTable_PD(1.5), c_rate = 0.8)\n",
    "@test length(allagents(model)) == 104\n",
    "@test model.properties[:payofftable].T == 1.5"
   ]
  },
  {
   "cell_type": "markdown",
   "metadata": {},
   "source": [
    "# Define model behavior of 1step"
   ]
  },
  {
   "cell_type": "code",
   "execution_count": 17,
   "metadata": {},
   "outputs": [
    {
     "name": "stdout",
     "output_type": "stream",
     "text": [
      "  0.090902 seconds (80.98 k allocations: 4.485 MiB, 98.98% compilation time)\n",
      "  0.353231 seconds (4.59 M allocations: 253.244 MiB, 9.33% gc time)\n"
     ]
    }
   ],
   "source": [
    "function model_step!(model::AgentBasedModel)\n",
    "    payofftable = model.properties[:payofftable]\n",
    "    \n",
    "    # In each generation, all pairs of individuals x and y, directly connected, engage in a single round of a given game,\n",
    "    # their accumulated payoffs being stored as Px and Py, respectively.\n",
    "    for agent in allagents(model)\n",
    "        agent.payoff = 0\n",
    "        for neighbor in nearby_agents(agent, model)\n",
    "            agent.payoff += play(payofftable, agent, neighbor)\n",
    "        end\n",
    "        # agent.payoff = sum([play(payofftable, agent, neighbor) for neighbor in nearby_agents(agent, model)])\n",
    "    end\n",
    "    \n",
    "    # decide next strategy by pay-off\n",
    "    for agent in allagents(model)\n",
    "        # Whenever a site x is updated, a neighbor y is drawn at random among all kx neighbors\n",
    "        neighbors = nearby_agents(agent, model)\n",
    "        neighbor_count = length(neighbors)\n",
    "        neighbor = collect(neighbors)[rand(1:neighbor_count)]\n",
    "        \n",
    "        # whenever Py > Px the chosen neighbor takes over site x with probability given by (Py−Px)/(Dk>)\n",
    "        # where k> is the largest between kx and ky and D=T−S for the PD and D=T−P for the SG\n",
    "        Px = agent.payoff\n",
    "        Py = neighbor.payoff\n",
    "        D = payofftable.T - 0 # ∵ S = 0 for PD, P = 0 for SD\n",
    "        kx = neighbor_count\n",
    "        ky = length(nearby_agents(neighbor, model))\n",
    "        k_max = kx > ky ? kx : ky\n",
    "        take_over_ratio = (Py - Px) / (D * k_max)\n",
    "        \n",
    "        if Py > Px && take_over_ratio > rand()\n",
    "            agent.next_strategy = neighbor.strategy\n",
    "        else\n",
    "            agent.next_strategy = agent.strategy\n",
    "        end\n",
    "    end\n",
    "    \n",
    "    # update strategy\n",
    "    for agent in allagents(model)\n",
    "        agent.strategy = agent.next_strategy\n",
    "    end\n",
    "end\n",
    "\n",
    "# Test\n",
    "# 0.019611 seconds (43.44 k allocations: 2.462 MiB, 96.83% compilation time)\n",
    "# 3つのforループの中で最初のループがボトルネック\n",
    "# Struct を Tuple に変えても変化なし\n",
    "# インライン化しても変化なし\n",
    "# 1つめのループ内の内包表現をfor文に変えて、変数を予め割り当てる\n",
    "# 0.027275 seconds (60.34 k allocations: 3.378 MiB, 97.36% compilation time)\n",
    "# =>\n",
    "# 0.000204 seconds (2.22 k allocations: 121.672 KiB)\n",
    "model = build_model(G = barabasi_albert(104, 4), payofftable = PayOffTable_PD(1.5), c_rate = 0.5)\n",
    "@time run!(model, dummystep, model_step!, 1; adata = [(:strategy, mean)])\n",
    "@time run!(model, dummystep, model_step!, 1000; adata = [(:strategy, mean)])\n",
    "nothing"
   ]
  },
  {
   "cell_type": "markdown",
   "metadata": {},
   "source": [
    "# シミュレーションを実行する"
   ]
  },
  {
   "cell_type": "code",
   "execution_count": 38,
   "metadata": {},
   "outputs": [
    {
     "data": {
      "text/plain": [
       "\u001b[32m\u001b[1mTest Passed\u001b[22m\u001b[39m"
      ]
     },
     "execution_count": 38,
     "metadata": {},
     "output_type": "execute_result"
    }
   ],
   "source": [
    "function exit_criteria(model::AgentBasedModel, s::Int)::Bool\n",
    "    s > 6000 || mean([a.strategy for a in allagents(model)]) == 0.0 || mean([a.strategy for a in allagents(model)]) == 1.0\n",
    "end\n",
    "\n",
    "model = build_model(G = barabasi_albert(104, 4), payofftable = PayOffTable_PD(1.5), c_rate = 0.5)\n",
    "@test !exit_criteria(model, 6000)\n",
    "model = build_model(G = barabasi_albert(104, 4), payofftable = PayOffTable_PD(1.5), c_rate = 0.5)\n",
    "@test exit_criteria(model, 6001)\n",
    "model = build_model(G = barabasi_albert(104, 4), payofftable = PayOffTable_PD(1.5), c_rate = 0.0)\n",
    "@test exit_criteria(model, 6000)\n",
    "model = build_model(G = barabasi_albert(104, 4), payofftable = PayOffTable_PD(1.5), c_rate = 1.0)\n",
    "@test exit_criteria(model, 6000)"
   ]
  },
  {
   "cell_type": "code",
   "execution_count": 39,
   "metadata": {},
   "outputs": [
    {
     "data": {
      "text/plain": [
       "run_simulation (generic function with 1 method)"
      ]
     },
     "execution_count": 39,
     "metadata": {},
     "output_type": "execute_result"
    }
   ],
   "source": [
    "function run_simulation(; scale_free::Bool, pd::Bool, b_r::Float64, N::Int = 104, k::Int = 4, N_trials::Int = 32)::Float64\n",
    "    # Simulations were carried out for a population of N=104\n",
    "    # Initially, an equal percentage of strategies (cooperators or defectors) was randomly distributed among the elements of the population.\n",
    "    # Equilibrium frequencies of cooperators and defectors were obtained by averaging over 1000 generations after a transient time of 10 000 generations.\n",
    "    c_rate = 0.5\n",
    "    N_gen = 6000\n",
    "    payofftable = pd ? PayOffTable_PD(b_r) : PayOffTable_SD(b_r)\n",
    "    \n",
    "    # To this end, each data point results from an average over 100 simulations for the same type of NOCs\n",
    "    # specified by the appropriate parameters (the population size N and the average connectivity z).\n",
    "    f_c = 0\n",
    "    for _ in 1:N_trials\n",
    "        G = scale_free ? barabasi_albert(N, k) : random_regular_graph(N, k)\n",
    "        model = build_model(;G, payofftable, c_rate)\n",
    "        temp_df, _ = run!(model, dummystep, model_step!, exit_criteria; adata = [(:strategy, mean)], when = 5401:6001)\n",
    "        f_c += mean(temp_df.mean_strategy)\n",
    "    end\n",
    "    \n",
    "    return f_c / N_trials\n",
    "end"
   ]
  },
  {
   "cell_type": "code",
   "execution_count": 40,
   "metadata": {},
   "outputs": [
    {
     "data": {
      "text/html": [
       "<div class=\"data-frame\"><p>0 rows × 5 columns</p><table class=\"data-frame\"><thead><tr><th></th><th>network_typ</th><th>game_type</th><th>b_r</th><th>k</th><th>f_c</th></tr><tr><th></th><th title=\"String\">String</th><th title=\"String\">String</th><th title=\"Float64\">Float64</th><th title=\"Int64\">Int64</th><th title=\"Float64\">Float64</th></tr></thead><tbody></tbody></table></div>"
      ],
      "text/latex": [
       "\\begin{tabular}{r|ccccc}\n",
       "\t& network\\_typ & game\\_type & b\\_r & k & f\\_c\\\\\n",
       "\t\\hline\n",
       "\t& String & String & Float64 & Int64 & Float64\\\\\n",
       "\t\\hline\n",
       "\\end{tabular}\n"
      ],
      "text/plain": [
       "\u001b[1m0×5 DataFrame\u001b[0m"
      ]
     },
     "execution_count": 40,
     "metadata": {},
     "output_type": "execute_result"
    }
   ],
   "source": [
    "df = DataFrame(network_typ = String[], game_type = String[], b_r = Float64[], k = Int64[], f_c = Float64[])"
   ]
  },
  {
   "cell_type": "code",
   "execution_count": 41,
   "metadata": {},
   "outputs": [
    {
     "name": "stdout",
     "output_type": "stream",
     "text": [
      " 50.023166 seconds (726.71 M allocations: 35.600 GiB, 9.15% gc time, 0.04% compilation time)\n",
      " 48.766604 seconds (718.17 M allocations: 35.173 GiB, 8.89% gc time)\n",
      " 41.934761 seconds (618.24 M allocations: 30.292 GiB, 8.91% gc time)\n",
      " 34.315095 seconds (505.28 M allocations: 24.795 GiB, 8.92% gc time)\n",
      " 30.589474 seconds (455.64 M allocations: 22.372 GiB, 8.83% gc time)\n"
     ]
    },
    {
     "data": {
      "text/html": [
       "<div class=\"data-frame\"><p>5 rows × 5 columns</p><table class=\"data-frame\"><thead><tr><th></th><th>network_typ</th><th>game_type</th><th>b_r</th><th>k</th><th>f_c</th></tr><tr><th></th><th title=\"String\">String</th><th title=\"String\">String</th><th title=\"Float64\">Float64</th><th title=\"Int64\">Int64</th><th title=\"Float64\">Float64</th></tr></thead><tbody><tr><th>1</th><td>Regular</td><td>Prisoner&apos;s Dilemma</td><td>1.0</td><td>4</td><td>0.705357</td></tr><tr><th>2</th><td>Regular</td><td>Prisoner&apos;s Dilemma</td><td>1.05</td><td>4</td><td>NaN</td></tr><tr><th>3</th><td>Regular</td><td>Prisoner&apos;s Dilemma</td><td>1.1</td><td>4</td><td>NaN</td></tr><tr><th>4</th><td>Regular</td><td>Prisoner&apos;s Dilemma</td><td>1.15</td><td>4</td><td>NaN</td></tr><tr><th>5</th><td>Regular</td><td>Prisoner&apos;s Dilemma</td><td>1.2</td><td>4</td><td>NaN</td></tr></tbody></table></div>"
      ],
      "text/latex": [
       "\\begin{tabular}{r|ccccc}\n",
       "\t& network\\_typ & game\\_type & b\\_r & k & f\\_c\\\\\n",
       "\t\\hline\n",
       "\t& String & String & Float64 & Int64 & Float64\\\\\n",
       "\t\\hline\n",
       "\t1 & Regular & Prisoner's Dilemma & 1.0 & 4 & 0.705357 \\\\\n",
       "\t2 & Regular & Prisoner's Dilemma & 1.05 & 4 & NaN \\\\\n",
       "\t3 & Regular & Prisoner's Dilemma & 1.1 & 4 & NaN \\\\\n",
       "\t4 & Regular & Prisoner's Dilemma & 1.15 & 4 & NaN \\\\\n",
       "\t5 & Regular & Prisoner's Dilemma & 1.2 & 4 & NaN \\\\\n",
       "\\end{tabular}\n"
      ],
      "text/plain": [
       "\u001b[1m5×5 DataFrame\u001b[0m\n",
       "\u001b[1m Row \u001b[0m│\u001b[1m network_typ \u001b[0m\u001b[1m game_type          \u001b[0m\u001b[1m b_r     \u001b[0m\u001b[1m k     \u001b[0m\u001b[1m f_c        \u001b[0m\n",
       "\u001b[1m     \u001b[0m│\u001b[90m String      \u001b[0m\u001b[90m String             \u001b[0m\u001b[90m Float64 \u001b[0m\u001b[90m Int64 \u001b[0m\u001b[90m Float64    \u001b[0m\n",
       "─────┼─────────────────────────────────────────────────────────────\n",
       "   1 │ Regular      Prisoner's Dilemma     1.0       4    0.705357\n",
       "   2 │ Regular      Prisoner's Dilemma     1.05      4  NaN\n",
       "   3 │ Regular      Prisoner's Dilemma     1.1       4  NaN\n",
       "   4 │ Regular      Prisoner's Dilemma     1.15      4  NaN\n",
       "   5 │ Regular      Prisoner's Dilemma     1.2       4  NaN"
      ]
     },
     "execution_count": 41,
     "metadata": {},
     "output_type": "execute_result"
    }
   ],
   "source": [
    "# Regular Network / Prisoner's Dilemma / k = 4\n",
    "for b_r in 1.00:0.05:1.20\n",
    "    @time push!(df, [\"Regular\", \"Prisoner's Dilemma\", b_r, 4, run_simulation(; scale_free = false, pd = true, b_r)])\n",
    "end\n",
    "df"
   ]
  },
  {
   "cell_type": "code",
   "execution_count": 42,
   "metadata": {},
   "outputs": [
    {
     "name": "stdout",
     "output_type": "stream",
     "text": [
      "  5.538301 seconds (82.71 M allocations: 4.073 GiB, 8.86% gc time)\n",
      " 49.573067 seconds (727.73 M allocations: 35.615 GiB, 8.66% gc time)\n",
      " 49.620712 seconds (726.91 M allocations: 35.602 GiB, 8.66% gc time)\n",
      " 48.136218 seconds (713.25 M allocations: 34.966 GiB, 8.65% gc time)\n",
      "  5.145331 seconds (77.17 M allocations: 3.799 GiB, 8.88% gc time)\n"
     ]
    },
    {
     "data": {
      "text/html": [
       "<div class=\"data-frame\"><p>10 rows × 5 columns</p><table class=\"data-frame\"><thead><tr><th></th><th>network_typ</th><th>game_type</th><th>b_r</th><th>k</th><th>f_c</th></tr><tr><th></th><th title=\"String\">String</th><th title=\"String\">String</th><th title=\"Float64\">Float64</th><th title=\"Int64\">Int64</th><th title=\"Float64\">Float64</th></tr></thead><tbody><tr><th>1</th><td>Regular</td><td>Prisoner&apos;s Dilemma</td><td>1.0</td><td>4</td><td>0.705357</td></tr><tr><th>2</th><td>Regular</td><td>Prisoner&apos;s Dilemma</td><td>1.05</td><td>4</td><td>NaN</td></tr><tr><th>3</th><td>Regular</td><td>Prisoner&apos;s Dilemma</td><td>1.1</td><td>4</td><td>NaN</td></tr><tr><th>4</th><td>Regular</td><td>Prisoner&apos;s Dilemma</td><td>1.15</td><td>4</td><td>NaN</td></tr><tr><th>5</th><td>Regular</td><td>Prisoner&apos;s Dilemma</td><td>1.2</td><td>4</td><td>NaN</td></tr><tr><th>6</th><td>Regular</td><td>Snowdrift</td><td>0.1</td><td>4</td><td>NaN</td></tr><tr><th>7</th><td>Regular</td><td>Snowdrift</td><td>0.3</td><td>4</td><td>0.623112</td></tr><tr><th>8</th><td>Regular</td><td>Snowdrift</td><td>0.5</td><td>4</td><td>0.37665</td></tr><tr><th>9</th><td>Regular</td><td>Snowdrift</td><td>0.7</td><td>4</td><td>NaN</td></tr><tr><th>10</th><td>Regular</td><td>Snowdrift</td><td>0.9</td><td>4</td><td>NaN</td></tr></tbody></table></div>"
      ],
      "text/latex": [
       "\\begin{tabular}{r|ccccc}\n",
       "\t& network\\_typ & game\\_type & b\\_r & k & f\\_c\\\\\n",
       "\t\\hline\n",
       "\t& String & String & Float64 & Int64 & Float64\\\\\n",
       "\t\\hline\n",
       "\t1 & Regular & Prisoner's Dilemma & 1.0 & 4 & 0.705357 \\\\\n",
       "\t2 & Regular & Prisoner's Dilemma & 1.05 & 4 & NaN \\\\\n",
       "\t3 & Regular & Prisoner's Dilemma & 1.1 & 4 & NaN \\\\\n",
       "\t4 & Regular & Prisoner's Dilemma & 1.15 & 4 & NaN \\\\\n",
       "\t5 & Regular & Prisoner's Dilemma & 1.2 & 4 & NaN \\\\\n",
       "\t6 & Regular & Snowdrift & 0.1 & 4 & NaN \\\\\n",
       "\t7 & Regular & Snowdrift & 0.3 & 4 & 0.623112 \\\\\n",
       "\t8 & Regular & Snowdrift & 0.5 & 4 & 0.37665 \\\\\n",
       "\t9 & Regular & Snowdrift & 0.7 & 4 & NaN \\\\\n",
       "\t10 & Regular & Snowdrift & 0.9 & 4 & NaN \\\\\n",
       "\\end{tabular}\n"
      ],
      "text/plain": [
       "\u001b[1m10×5 DataFrame\u001b[0m\n",
       "\u001b[1m Row \u001b[0m│\u001b[1m network_typ \u001b[0m\u001b[1m game_type          \u001b[0m\u001b[1m b_r     \u001b[0m\u001b[1m k     \u001b[0m\u001b[1m f_c        \u001b[0m\n",
       "\u001b[1m     \u001b[0m│\u001b[90m String      \u001b[0m\u001b[90m String             \u001b[0m\u001b[90m Float64 \u001b[0m\u001b[90m Int64 \u001b[0m\u001b[90m Float64    \u001b[0m\n",
       "─────┼─────────────────────────────────────────────────────────────\n",
       "   1 │ Regular      Prisoner's Dilemma     1.0       4    0.705357\n",
       "   2 │ Regular      Prisoner's Dilemma     1.05      4  NaN\n",
       "   3 │ Regular      Prisoner's Dilemma     1.1       4  NaN\n",
       "   4 │ Regular      Prisoner's Dilemma     1.15      4  NaN\n",
       "   5 │ Regular      Prisoner's Dilemma     1.2       4  NaN\n",
       "   6 │ Regular      Snowdrift              0.1       4  NaN\n",
       "   7 │ Regular      Snowdrift              0.3       4    0.623112\n",
       "   8 │ Regular      Snowdrift              0.5       4    0.37665\n",
       "   9 │ Regular      Snowdrift              0.7       4  NaN\n",
       "  10 │ Regular      Snowdrift              0.9       4  NaN"
      ]
     },
     "execution_count": 42,
     "metadata": {},
     "output_type": "execute_result"
    }
   ],
   "source": [
    "# Regular Network / Snowdrift Game\n",
    "for b_r in 0.1:0.2:0.9\n",
    "    @time push!(df, [\"Regular\", \"Snowdrift\", b_r, 4, run_simulation(; scale_free = false, pd = false, b_r)])\n",
    "end\n",
    "df"
   ]
  },
  {
   "cell_type": "code",
   "execution_count": 43,
   "metadata": {},
   "outputs": [
    {
     "name": "stdout",
     "output_type": "stream",
     "text": [
      " 11.249489 seconds (146.92 M allocations: 7.961 GiB, 8.84% gc time)\n",
      " 10.674220 seconds (141.23 M allocations: 7.677 GiB, 8.84% gc time)\n",
      "  7.866610 seconds (104.97 M allocations: 5.690 GiB, 8.91% gc time)\n",
      "  2.568484 seconds (33.73 M allocations: 1.834 GiB, 8.90% gc time)\n",
      "  1.813476 seconds (24.04 M allocations: 1.306 GiB, 9.52% gc time)\n"
     ]
    },
    {
     "data": {
      "text/html": [
       "<div class=\"data-frame\"><p>15 rows × 5 columns</p><table class=\"data-frame\"><thead><tr><th></th><th>network_typ</th><th>game_type</th><th>b_r</th><th>k</th><th>f_c</th></tr><tr><th></th><th title=\"String\">String</th><th title=\"String\">String</th><th title=\"Float64\">Float64</th><th title=\"Int64\">Int64</th><th title=\"Float64\">Float64</th></tr></thead><tbody><tr><th>1</th><td>Regular</td><td>Prisoner&apos;s Dilemma</td><td>1.0</td><td>4</td><td>0.705357</td></tr><tr><th>2</th><td>Regular</td><td>Prisoner&apos;s Dilemma</td><td>1.05</td><td>4</td><td>NaN</td></tr><tr><th>3</th><td>Regular</td><td>Prisoner&apos;s Dilemma</td><td>1.1</td><td>4</td><td>NaN</td></tr><tr><th>4</th><td>Regular</td><td>Prisoner&apos;s Dilemma</td><td>1.15</td><td>4</td><td>NaN</td></tr><tr><th>5</th><td>Regular</td><td>Prisoner&apos;s Dilemma</td><td>1.2</td><td>4</td><td>NaN</td></tr><tr><th>6</th><td>Regular</td><td>Snowdrift</td><td>0.1</td><td>4</td><td>NaN</td></tr><tr><th>7</th><td>Regular</td><td>Snowdrift</td><td>0.3</td><td>4</td><td>0.623112</td></tr><tr><th>8</th><td>Regular</td><td>Snowdrift</td><td>0.5</td><td>4</td><td>0.37665</td></tr><tr><th>9</th><td>Regular</td><td>Snowdrift</td><td>0.7</td><td>4</td><td>NaN</td></tr><tr><th>10</th><td>Regular</td><td>Snowdrift</td><td>0.9</td><td>4</td><td>NaN</td></tr><tr><th>11</th><td>Scale-Free</td><td>Prisoner&apos;s Dilemma</td><td>1.1</td><td>4</td><td>NaN</td></tr><tr><th>12</th><td>Scale-Free</td><td>Prisoner&apos;s Dilemma</td><td>1.3</td><td>4</td><td>NaN</td></tr><tr><th>13</th><td>Scale-Free</td><td>Prisoner&apos;s Dilemma</td><td>1.5</td><td>4</td><td>NaN</td></tr><tr><th>14</th><td>Scale-Free</td><td>Prisoner&apos;s Dilemma</td><td>1.7</td><td>4</td><td>NaN</td></tr><tr><th>15</th><td>Scale-Free</td><td>Prisoner&apos;s Dilemma</td><td>1.9</td><td>4</td><td>NaN</td></tr></tbody></table></div>"
      ],
      "text/latex": [
       "\\begin{tabular}{r|ccccc}\n",
       "\t& network\\_typ & game\\_type & b\\_r & k & f\\_c\\\\\n",
       "\t\\hline\n",
       "\t& String & String & Float64 & Int64 & Float64\\\\\n",
       "\t\\hline\n",
       "\t1 & Regular & Prisoner's Dilemma & 1.0 & 4 & 0.705357 \\\\\n",
       "\t2 & Regular & Prisoner's Dilemma & 1.05 & 4 & NaN \\\\\n",
       "\t3 & Regular & Prisoner's Dilemma & 1.1 & 4 & NaN \\\\\n",
       "\t4 & Regular & Prisoner's Dilemma & 1.15 & 4 & NaN \\\\\n",
       "\t5 & Regular & Prisoner's Dilemma & 1.2 & 4 & NaN \\\\\n",
       "\t6 & Regular & Snowdrift & 0.1 & 4 & NaN \\\\\n",
       "\t7 & Regular & Snowdrift & 0.3 & 4 & 0.623112 \\\\\n",
       "\t8 & Regular & Snowdrift & 0.5 & 4 & 0.37665 \\\\\n",
       "\t9 & Regular & Snowdrift & 0.7 & 4 & NaN \\\\\n",
       "\t10 & Regular & Snowdrift & 0.9 & 4 & NaN \\\\\n",
       "\t11 & Scale-Free & Prisoner's Dilemma & 1.1 & 4 & NaN \\\\\n",
       "\t12 & Scale-Free & Prisoner's Dilemma & 1.3 & 4 & NaN \\\\\n",
       "\t13 & Scale-Free & Prisoner's Dilemma & 1.5 & 4 & NaN \\\\\n",
       "\t14 & Scale-Free & Prisoner's Dilemma & 1.7 & 4 & NaN \\\\\n",
       "\t15 & Scale-Free & Prisoner's Dilemma & 1.9 & 4 & NaN \\\\\n",
       "\\end{tabular}\n"
      ],
      "text/plain": [
       "\u001b[1m15×5 DataFrame\u001b[0m\n",
       "\u001b[1m Row \u001b[0m│\u001b[1m network_typ \u001b[0m\u001b[1m game_type          \u001b[0m\u001b[1m b_r     \u001b[0m\u001b[1m k     \u001b[0m\u001b[1m f_c        \u001b[0m\n",
       "\u001b[1m     \u001b[0m│\u001b[90m String      \u001b[0m\u001b[90m String             \u001b[0m\u001b[90m Float64 \u001b[0m\u001b[90m Int64 \u001b[0m\u001b[90m Float64    \u001b[0m\n",
       "─────┼─────────────────────────────────────────────────────────────\n",
       "   1 │ Regular      Prisoner's Dilemma     1.0       4    0.705357\n",
       "   2 │ Regular      Prisoner's Dilemma     1.05      4  NaN\n",
       "   3 │ Regular      Prisoner's Dilemma     1.1       4  NaN\n",
       "   4 │ Regular      Prisoner's Dilemma     1.15      4  NaN\n",
       "   5 │ Regular      Prisoner's Dilemma     1.2       4  NaN\n",
       "   6 │ Regular      Snowdrift              0.1       4  NaN\n",
       "   7 │ Regular      Snowdrift              0.3       4    0.623112\n",
       "   8 │ Regular      Snowdrift              0.5       4    0.37665\n",
       "   9 │ Regular      Snowdrift              0.7       4  NaN\n",
       "  10 │ Regular      Snowdrift              0.9       4  NaN\n",
       "  11 │ Scale-Free   Prisoner's Dilemma     1.1       4  NaN\n",
       "  12 │ Scale-Free   Prisoner's Dilemma     1.3       4  NaN\n",
       "  13 │ Scale-Free   Prisoner's Dilemma     1.5       4  NaN\n",
       "  14 │ Scale-Free   Prisoner's Dilemma     1.7       4  NaN\n",
       "  15 │ Scale-Free   Prisoner's Dilemma     1.9       4  NaN"
      ]
     },
     "execution_count": 43,
     "metadata": {},
     "output_type": "execute_result"
    }
   ],
   "source": [
    "# Scale-Free Network / Prisoner's Dilemma\n",
    "for b_r in 1.1:0.2:1.9\n",
    "    @time push!(df, [\"Scale-Free\", \"Prisoner's Dilemma\", b_r, 4, run_simulation(; scale_free = true, pd = true, b_r)])\n",
    "end\n",
    "df"
   ]
  },
  {
   "cell_type": "code",
   "execution_count": 44,
   "metadata": {
    "scrolled": true
   },
   "outputs": [
    {
     "name": "stdout",
     "output_type": "stream",
     "text": [
      "  6.741179 seconds (87.59 M allocations: 4.771 GiB, 8.82% gc time)\n",
      "  9.419093 seconds (122.48 M allocations: 6.654 GiB, 8.82% gc time)\n",
      " 20.501134 seconds (268.67 M allocations: 14.537 GiB, 8.85% gc time)\n",
      " 32.703216 seconds (424.19 M allocations: 22.976 GiB, 8.96% gc time)\n",
      " 59.345168 seconds (781.69 M allocations: 42.498 GiB, 8.85% gc time)\n"
     ]
    },
    {
     "data": {
      "text/html": [
       "<div class=\"data-frame\"><p>20 rows × 5 columns</p><table class=\"data-frame\"><thead><tr><th></th><th>network_typ</th><th>game_type</th><th>b_r</th><th>k</th><th>f_c</th></tr><tr><th></th><th title=\"String\">String</th><th title=\"String\">String</th><th title=\"Float64\">Float64</th><th title=\"Int64\">Int64</th><th title=\"Float64\">Float64</th></tr></thead><tbody><tr><th>1</th><td>Regular</td><td>Prisoner&apos;s Dilemma</td><td>1.0</td><td>4</td><td>0.705357</td></tr><tr><th>2</th><td>Regular</td><td>Prisoner&apos;s Dilemma</td><td>1.05</td><td>4</td><td>NaN</td></tr><tr><th>3</th><td>Regular</td><td>Prisoner&apos;s Dilemma</td><td>1.1</td><td>4</td><td>NaN</td></tr><tr><th>4</th><td>Regular</td><td>Prisoner&apos;s Dilemma</td><td>1.15</td><td>4</td><td>NaN</td></tr><tr><th>5</th><td>Regular</td><td>Prisoner&apos;s Dilemma</td><td>1.2</td><td>4</td><td>NaN</td></tr><tr><th>6</th><td>Regular</td><td>Snowdrift</td><td>0.1</td><td>4</td><td>NaN</td></tr><tr><th>7</th><td>Regular</td><td>Snowdrift</td><td>0.3</td><td>4</td><td>0.623112</td></tr><tr><th>8</th><td>Regular</td><td>Snowdrift</td><td>0.5</td><td>4</td><td>0.37665</td></tr><tr><th>9</th><td>Regular</td><td>Snowdrift</td><td>0.7</td><td>4</td><td>NaN</td></tr><tr><th>10</th><td>Regular</td><td>Snowdrift</td><td>0.9</td><td>4</td><td>NaN</td></tr><tr><th>11</th><td>Scale-Free</td><td>Prisoner&apos;s Dilemma</td><td>1.1</td><td>4</td><td>NaN</td></tr><tr><th>12</th><td>Scale-Free</td><td>Prisoner&apos;s Dilemma</td><td>1.3</td><td>4</td><td>NaN</td></tr><tr><th>13</th><td>Scale-Free</td><td>Prisoner&apos;s Dilemma</td><td>1.5</td><td>4</td><td>NaN</td></tr><tr><th>14</th><td>Scale-Free</td><td>Prisoner&apos;s Dilemma</td><td>1.7</td><td>4</td><td>NaN</td></tr><tr><th>15</th><td>Scale-Free</td><td>Prisoner&apos;s Dilemma</td><td>1.9</td><td>4</td><td>NaN</td></tr><tr><th>16</th><td>Scale-Free</td><td>Snowdrift</td><td>0.1</td><td>4</td><td>NaN</td></tr><tr><th>17</th><td>Scale-Free</td><td>Snowdrift</td><td>0.3</td><td>4</td><td>NaN</td></tr><tr><th>18</th><td>Scale-Free</td><td>Snowdrift</td><td>0.5</td><td>4</td><td>NaN</td></tr><tr><th>19</th><td>Scale-Free</td><td>Snowdrift</td><td>0.7</td><td>4</td><td>NaN</td></tr><tr><th>20</th><td>Scale-Free</td><td>Snowdrift</td><td>0.9</td><td>4</td><td>NaN</td></tr></tbody></table></div>"
      ],
      "text/latex": [
       "\\begin{tabular}{r|ccccc}\n",
       "\t& network\\_typ & game\\_type & b\\_r & k & f\\_c\\\\\n",
       "\t\\hline\n",
       "\t& String & String & Float64 & Int64 & Float64\\\\\n",
       "\t\\hline\n",
       "\t1 & Regular & Prisoner's Dilemma & 1.0 & 4 & 0.705357 \\\\\n",
       "\t2 & Regular & Prisoner's Dilemma & 1.05 & 4 & NaN \\\\\n",
       "\t3 & Regular & Prisoner's Dilemma & 1.1 & 4 & NaN \\\\\n",
       "\t4 & Regular & Prisoner's Dilemma & 1.15 & 4 & NaN \\\\\n",
       "\t5 & Regular & Prisoner's Dilemma & 1.2 & 4 & NaN \\\\\n",
       "\t6 & Regular & Snowdrift & 0.1 & 4 & NaN \\\\\n",
       "\t7 & Regular & Snowdrift & 0.3 & 4 & 0.623112 \\\\\n",
       "\t8 & Regular & Snowdrift & 0.5 & 4 & 0.37665 \\\\\n",
       "\t9 & Regular & Snowdrift & 0.7 & 4 & NaN \\\\\n",
       "\t10 & Regular & Snowdrift & 0.9 & 4 & NaN \\\\\n",
       "\t11 & Scale-Free & Prisoner's Dilemma & 1.1 & 4 & NaN \\\\\n",
       "\t12 & Scale-Free & Prisoner's Dilemma & 1.3 & 4 & NaN \\\\\n",
       "\t13 & Scale-Free & Prisoner's Dilemma & 1.5 & 4 & NaN \\\\\n",
       "\t14 & Scale-Free & Prisoner's Dilemma & 1.7 & 4 & NaN \\\\\n",
       "\t15 & Scale-Free & Prisoner's Dilemma & 1.9 & 4 & NaN \\\\\n",
       "\t16 & Scale-Free & Snowdrift & 0.1 & 4 & NaN \\\\\n",
       "\t17 & Scale-Free & Snowdrift & 0.3 & 4 & NaN \\\\\n",
       "\t18 & Scale-Free & Snowdrift & 0.5 & 4 & NaN \\\\\n",
       "\t19 & Scale-Free & Snowdrift & 0.7 & 4 & NaN \\\\\n",
       "\t20 & Scale-Free & Snowdrift & 0.9 & 4 & NaN \\\\\n",
       "\\end{tabular}\n"
      ],
      "text/plain": [
       "\u001b[1m20×5 DataFrame\u001b[0m\n",
       "\u001b[1m Row \u001b[0m│\u001b[1m network_typ \u001b[0m\u001b[1m game_type          \u001b[0m\u001b[1m b_r     \u001b[0m\u001b[1m k     \u001b[0m\u001b[1m f_c        \u001b[0m\n",
       "\u001b[1m     \u001b[0m│\u001b[90m String      \u001b[0m\u001b[90m String             \u001b[0m\u001b[90m Float64 \u001b[0m\u001b[90m Int64 \u001b[0m\u001b[90m Float64    \u001b[0m\n",
       "─────┼─────────────────────────────────────────────────────────────\n",
       "   1 │ Regular      Prisoner's Dilemma     1.0       4    0.705357\n",
       "   2 │ Regular      Prisoner's Dilemma     1.05      4  NaN\n",
       "   3 │ Regular      Prisoner's Dilemma     1.1       4  NaN\n",
       "   4 │ Regular      Prisoner's Dilemma     1.15      4  NaN\n",
       "   5 │ Regular      Prisoner's Dilemma     1.2       4  NaN\n",
       "   6 │ Regular      Snowdrift              0.1       4  NaN\n",
       "   7 │ Regular      Snowdrift              0.3       4    0.623112\n",
       "   8 │ Regular      Snowdrift              0.5       4    0.37665\n",
       "   9 │ Regular      Snowdrift              0.7       4  NaN\n",
       "  10 │ Regular      Snowdrift              0.9       4  NaN\n",
       "  11 │ Scale-Free   Prisoner's Dilemma     1.1       4  NaN\n",
       "  12 │ Scale-Free   Prisoner's Dilemma     1.3       4  NaN\n",
       "  13 │ Scale-Free   Prisoner's Dilemma     1.5       4  NaN\n",
       "  14 │ Scale-Free   Prisoner's Dilemma     1.7       4  NaN\n",
       "  15 │ Scale-Free   Prisoner's Dilemma     1.9       4  NaN\n",
       "  16 │ Scale-Free   Snowdrift              0.1       4  NaN\n",
       "  17 │ Scale-Free   Snowdrift              0.3       4  NaN\n",
       "  18 │ Scale-Free   Snowdrift              0.5       4  NaN\n",
       "  19 │ Scale-Free   Snowdrift              0.7       4  NaN\n",
       "  20 │ Scale-Free   Snowdrift              0.9       4  NaN"
      ]
     },
     "execution_count": 44,
     "metadata": {},
     "output_type": "execute_result"
    }
   ],
   "source": [
    "# Scale-Free Network / Snowdrift Game\n",
    "for b_r in 0.1:0.2:0.9\n",
    "    @time push!(df, [\"Scale-Free\", \"Snowdrift\", b_r, 4, run_simulation(; scale_free = true, pd = false, b_r)])\n",
    "end\n",
    "df"
   ]
  },
  {
   "cell_type": "code",
   "execution_count": 45,
   "metadata": {},
   "outputs": [
    {
     "data": {
      "image/png": "[encoded data removed]",
      "text/plain": [
       "FigureAxisPlot()"
      ]
     },
     "execution_count": 45,
     "metadata": {},
     "output_type": "execute_result"
    }
   ],
   "source": [
    "temp_df = df[(df.network_typ .== \"Regular\") .& (df.game_type .== \"Prisoner's Dilemma\"), :]\n",
    "lines(temp_df.b_r, temp_df.f_c)"
   ]
  },
  {
   "cell_type": "code",
   "execution_count": 46,
   "metadata": {},
   "outputs": [
    {
     "data": {
      "image/png": "[encoded data removed]",
      "text/plain": [
       "FigureAxisPlot()"
      ]
     },
     "execution_count": 46,
     "metadata": {},
     "output_type": "execute_result"
    }
   ],
   "source": [
    "temp_df = df[(df.network_typ .== \"Regular\") .& (df.game_type .== \"Snowdrift\"), :]\n",
    "lines(temp_df.b_r, temp_df.f_c)"
   ]
  },
  {
   "cell_type": "code",
   "execution_count": 47,
   "metadata": {},
   "outputs": [
    {
     "data": {
      "image/png": "[encoded data removed]",
      "text/plain": [
       "FigureAxisPlot()"
      ]
     },
     "execution_count": 47,
     "metadata": {},
     "output_type": "execute_result"
    }
   ],
   "source": [
    "temp_df = df[(df.network_typ .== \"Scale-Free\") .& (df.game_type .== \"Prisoner's Dilemma\"), :]\n",
    "lines(temp_df.b_r, temp_df.f_c)"
   ]
  },
  {
   "cell_type": "code",
   "execution_count": 48,
   "metadata": {},
   "outputs": [
    {
     "data": {
      "image/png": "[encoded data removed]",
      "text/plain": [
       "FigureAxisPlot()"
      ]
     },
     "execution_count": 48,
     "metadata": {},
     "output_type": "execute_result"
    }
   ],
   "source": [
    "temp_df = df[(df.network_typ .== \"Scale-Free\") .& (df.game_type .== \"Snowdrift\"), :]\n",
    "lines(temp_df.b_r, temp_df.f_c)"
   ]
  },
  {
   "cell_type": "code",
   "execution_count": 30,
   "metadata": {},
   "outputs": [
    {
     "data": {
      "text/plain": [
       "\"UnifyingFramework.csv\""
      ]
     },
     "execution_count": 30,
     "metadata": {},
     "output_type": "execute_result"
    }
   ],
   "source": [
    "CSV.write(\"UnifyingFramework_20210728_2018.csv\", df)"
   ]
  }
 ],
 "metadata": {
  "kernelspec": {
   "display_name": "Julia 1.6.1",
   "language": "julia",
   "name": "julia-1.6"
  },
  "language_info": {
   "file_extension": ".jl",
   "mimetype": "application/julia",
   "name": "julia",
   "version": "1.6.2"
  }
 },
 "nbformat": 4,
 "nbformat_minor": 4
}
