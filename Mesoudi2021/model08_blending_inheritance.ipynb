{
 "cells": [
  {
   "cell_type": "markdown",
   "id": "9210e65b",
   "metadata": {},
   "source": [
    "# Model 8: Blending inheritance\n",
    "\n",
    "original: https://bookdown.org/amesoudi/ABMtutorial_bookdown/model8.html\n",
    "\n",
    "- 昔々、ダーウィンが種の起源を書いた頃、生物は両親の特徴をブレンドした特徴を持って生まれてくると考えられてきた (混合遺伝)。でも、だとすると、世代を重ねるにつれて、生物の多様性は失われ、みんな同じような特性を持つ生物ばかりになってしまうのではないか？こういった謎があった。\n",
    "- この謎は、メンデルの有名なエンドウ豆の実験で解明された。遺伝は、液体が混じり合うようにして起こるのではなく、離散的な粒子が混じり合うようにして起こるのだ。\n",
    "- 紫の花と白い花を親として持つ子は、薄紫になるのではなく、紫か白のどちらかの花をつける。人間の身長の様に、複雑な特性は、一見、混合遺伝の様に見えるが、実際には粒子遺伝である。\n",
    "- 文化進化が、混合遺伝で起こるのか粒子遺伝で起こるのか、はっきりしたことは分かっていない。\n",
    "- ここでは、文化的継承が混合的に起こるとした場合のモデルを検討する。\n",
    "- 文化的継承が混合的に起こるとしても、他の仕組みによって文化的多様性が維持される可能性はある。\n",
    "\n",
    "## Model 8a: Blending inheritance"
   ]
  },
  {
   "cell_type": "code",
   "execution_count": 1,
   "id": "29a963ac",
   "metadata": {},
   "outputs": [],
   "source": [
    "include(\"src/Agent.jl\")\n",
    "include(\"src/Output.jl\")\n",
    "using .Agent\n",
    "using .Output\n",
    "\n",
    "using DataFrames\n",
    "using Distributions\n",
    "using Plots"
   ]
  },
  {
   "cell_type": "code",
   "execution_count": 2,
   "id": "a14031cd",
   "metadata": {},
   "outputs": [
    {
     "data": {
      "text/plain": [
       "next_traits (generic function with 1 method)"
      ]
     },
     "execution_count": 2,
     "metadata": {},
     "output_type": "execute_result"
    }
   ],
   "source": [
    "function blending_inheritance(; N::Int, n::Int, r_max::Int, t_max::Int, e::Float64 = 0.0)\n",
    "    output_df = make_output_df(r_max, t_max)\n",
    "    rename!(output_df, [:p => :mean, :q => :var])\n",
    "    \n",
    "    for r = 1:r_max\n",
    "        traits = reshape(rand(Normal(), N), 1, N)\n",
    "\n",
    "        for t = 1:t_max\n",
    "            if t > 1\n",
    "                traits = next_traits(traits, N, n, e)\n",
    "            end\n",
    "\n",
    "            row_num = t + (r - 1) * t_max\n",
    "            output_df.r[row_num] = r\n",
    "            output_df.t[row_num] = t\n",
    "            output_df.mean[row_num] = mean(traits)\n",
    "            output_df.var[row_num] = var(traits)\n",
    "        end\n",
    "    end\n",
    "    \n",
    "    # plot\n",
    "    mean_plot = plot(\n",
    "        output_df[output_df.r.== 1, :].mean,\n",
    "        ylims = (-1.05, 1.05),\n",
    "        title = \"N = $N, n = $n\",\n",
    "        xlabel = \"generation\",\n",
    "        ylabel = \"trait mean\",\n",
    "        legend = false\n",
    "    )\n",
    "    for r = 2:maximum(output_df.r)\n",
    "        plot!(output_df[output_df.r.== r, :].mean)\n",
    "    end\n",
    "\n",
    "    var_plot = plot(\n",
    "        output_df[output_df.r.== 1, :].var,\n",
    "        ylims = (-0.03, 1.03),\n",
    "        title = \"N = $N, n = $n\",\n",
    "        xlabel = \"generation\",\n",
    "        ylabel = \"trait variance\",\n",
    "        legend = false\n",
    "    )\n",
    "    for r = 2:maximum(output_df.r)\n",
    "        plot!(output_df[output_df.r.== r, :].var)\n",
    "    end\n",
    "\n",
    "    plot(\n",
    "        mean_plot,\n",
    "        var_plot\n",
    "    )\n",
    "end\n",
    "\n",
    "function next_traits(traits::Matrix{Float64}, N::Int, n::Int, e::Float64)::Matrix{Float64}\n",
    "    _traits = rand(traits, N, n)\n",
    "\n",
    "    # blending inheritance\n",
    "    mean(_traits, dims = 2)\n",
    "end"
   ]
  },
  {
   "cell_type": "code",
   "execution_count": null,
   "id": "d5ea2ea5",
   "metadata": {},
   "outputs": [],
   "source": [
    "blending_inheritance(N = 10^3, n = 5, r_max = 5, t_max = 20)"
   ]
  },
  {
   "cell_type": "code",
   "execution_count": null,
   "id": "a4a9a71f",
   "metadata": {},
   "outputs": [],
   "source": [
    "blending_inheritance(N = 10^3, n = 2, r_max = 5, t_max = 20)"
   ]
  },
  {
   "cell_type": "markdown",
   "id": "403b0b3a",
   "metadata": {},
   "source": [
    "## Model 8b: Blending inheritance with mutation\n",
    "\n",
    "- 当然ながら、Mutation や Selection を導入すれば文化的多様性はある程度維持される。\n",
    "- よって、Blending と文化的多様性は矛盾しない。"
   ]
  },
  {
   "cell_type": "code",
   "execution_count": null,
   "id": "e46c16b6",
   "metadata": {},
   "outputs": [],
   "source": [
    "function next_traits(traits::Matrix{Float64}, N::Int, n::Int, e::Float64)::Matrix{Float64}\n",
    "    _traits = rand(traits, N, n)\n",
    "\n",
    "    # mutation\n",
    "    _traits = [rand(Normal(t, sqrt(e))) for t in _traits]\n",
    "\n",
    "    # blending inheritance\n",
    "    mean(_traits, dims = 2)\n",
    "end"
   ]
  },
  {
   "cell_type": "code",
   "execution_count": null,
   "id": "a6dddff0",
   "metadata": {},
   "outputs": [],
   "source": [
    "blending_inheritance(N = 10^3, n = 5, r_max = 5, t_max = 20, e = 0.5)"
   ]
  },
  {
   "cell_type": "code",
   "execution_count": null,
   "id": "64425cbb",
   "metadata": {},
   "outputs": [],
   "source": [
    "blending_inheritance(N = 10^3, n = 5, r_max = 5, t_max = 20, e = 2.0)"
   ]
  },
  {
   "cell_type": "markdown",
   "id": "c353f5ff",
   "metadata": {},
   "source": [
    "## Analytic Appendix\n",
    "\n",
    "- $V$: Variance\n",
    "- $e$: Error rate\n",
    "- $\\bar{E}$: Average of $e$\n",
    "\n",
    "$V' = \\frac{V + \\bar{E}}{n}$\n",
    "\n",
    "When $V' = V$:\n",
    "\n",
    "$\\hat{V} = \\frac{e}{n-1}$"
   ]
  }
 ],
 "metadata": {
  "kernelspec": {
   "display_name": "Julia 1.8.5",
   "language": "julia",
   "name": "julia-1.8"
  },
  "language_info": {
   "file_extension": ".jl",
   "mimetype": "application/julia",
   "name": "julia",
   "version": "1.8.5"
  }
 },
 "nbformat": 4,
 "nbformat_minor": 5
}
