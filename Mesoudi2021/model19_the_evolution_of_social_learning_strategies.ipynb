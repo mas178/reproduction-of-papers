{
 "cells": [
  {
   "cell_type": "markdown",
   "id": "7beb5e30-8f1a-4f33-a98f-c8853630ecff",
   "metadata": {
    "tags": []
   },
   "source": [
    "# Model 19: The evolution of social learning strategies\n",
    "\n",
    "original: https://bookdown.org/amesoudi/ABMtutorial_bookdown/model19.html\n",
    "\n",
    "## Introduction\n",
    "\n",
    "- Model 18b showed that social learning can readily evolve when combined with individual learning.\n",
    "    - So-called ‘critical learners’ who first try to socially learn behaviour from another agent, and if that behaviour is incorrect then try individual learning, out-compete both pure social learners and pure individual learners.\n",
    "    - But in Model 18, social learning took the form of unbiased transmission.\n",
    "        - Social learners picked a random agent from the previous generation and copied their behaviour. This is quite unrealistic.\n",
    "- In Model 19 we will therefore look at the evolution of the more sophisticated social learning strategies, payoff biased transmission (Model 3) and conformist biased transmission (Model 5).\n",
    "    - Model 3 や 5 では、伝達バイアスがどの様に文化的ダイナミクスを生み出すかを検討したが、ここでは、そもそもそういった伝達バイアスがどの様に進化したのかを探る。\n",
    "- Previous modelling work (e.g. Nakahashi et al. 2012) has suggested that the answer to this question partly depends on\n",
    "    - whether environments vary temporally, as in Model 18, where the optimal behaviour occasionally changes over time (Model 19a),\n",
    "    - or spatially, as in the migration model of Model 7, where different groups inhabit different environments in which different behaviours are optimal (Model 19b).\n",
    "    - The driving question in both is: when and why do payoff and conformist biased social learning strategies out-compete unbiased transmission?"
   ]
  },
  {
   "cell_type": "code",
   "execution_count": 1,
   "id": "41b0136a-5471-4dff-a135-3fe43f491368",
   "metadata": {
    "tags": []
   },
   "outputs": [
    {
     "name": "stdout",
     "output_type": "stream",
     "text": [
      "Julia version: 1.9.0\n"
     ]
    }
   ],
   "source": [
    "using JupyterFormatter\n",
    "enable_autoformat()\n",
    "\n",
    "using DataFrames\n",
    "using LaTeXStrings\n",
    "using Plots\n",
    "using StatsBase\n",
    "using Test: @test, @testset\n",
    "\n",
    "include(\"src/Model18_19.jl\")\n",
    "using .Model18_19.Agent\n",
    "\n",
    "println(\"Julia version: \", VERSION)"
   ]
  },
  {
   "cell_type": "markdown",
   "id": "a3f341d3-db6a-4281-b989-931db5b28b00",
   "metadata": {},
   "source": [
    "## Model 19a: Temporally varying environments"
   ]
  },
  {
   "cell_type": "code",
   "execution_count": 2,
   "id": "649adec2-851a-4ea5-bbbd-1a8ee870db38",
   "metadata": {},
   "outputs": [],
   "source": [
    "function SLStemporal(\n",
    "    N::Int = 5_000,\n",
    "    time_steps::Int = 500,\n",
    "    p_i::Float64 = 0.5,  # chance of discovering the correct behaviour\n",
    "    b::Float64 = 1.0,    # 正しい行動を取ったときのベネフィット\n",
    "    c_i::Float64 = 0.2,  # 個人的学習のコスト\n",
    "    μ::Float64 = 0.001,  # 変異率\n",
    "    v::Float64 = 0.9,    # probability of changing environment\n",
    "    n::Float64 = 3.0,\n",
    "    f::Float64 = 3.0,\n",
    "    c_c::Float64 = 0.02,\n",
    "    c_p::Float64 = 0.02,\n",
    ")\n",
    "    agent_df = make_agent_df(N)\n",
    "    output_df = make_output_df(time_steps)\n",
    "\n",
    "    for time_step = 1:time_steps\n",
    "        individual_learning!(agent_df, pᵢ)\n",
    "        social_learning!(agent_df, v)\n",
    "        update_fitnesses!(agent_df, b, cᵢ)\n",
    "        record_frequency_and_fitnesses!(output_df, agent_df, time_step)\n",
    "        selection_and_reproduction!(agent_df)\n",
    "        mutation_19!(agent_df, μ)\n",
    "    end\n",
    "\n",
    "    output_df.predictedILfitness .= 1 + b * pᵢ - cᵢ\n",
    "\n",
    "    return output_df\n",
    "end;"
   ]
  },
  {
   "cell_type": "markdown",
   "id": "5866d2bd-3113-4bb8-abb9-2622df1599b0",
   "metadata": {},
   "source": [
    "## Model 19b: Spatially varying environments"
   ]
  },
  {
   "cell_type": "code",
   "execution_count": null,
   "id": "a0e91a9c-bf07-44dd-aee5-243d1c90d8e9",
   "metadata": {},
   "outputs": [],
   "source": []
  },
  {
   "cell_type": "markdown",
   "id": "e42fdd27-10db-4d60-8884-b6c3b7c24064",
   "metadata": {},
   "source": [
    "## Summary"
   ]
  }
 ],
 "metadata": {
  "kernelspec": {
   "display_name": "Julia 1.9.0",
   "language": "julia",
   "name": "julia-1.9"
  },
  "language_info": {
   "file_extension": ".jl",
   "mimetype": "application/julia",
   "name": "julia",
   "version": "1.9.0"
  }
 },
 "nbformat": 4,
 "nbformat_minor": 5
}
